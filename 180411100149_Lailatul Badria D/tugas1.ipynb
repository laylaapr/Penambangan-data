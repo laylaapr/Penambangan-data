{
 "cells": [
  {
   "cell_type": "code",
   "execution_count": 10,
   "metadata": {},
   "outputs": [
    {
     "data": {
      "text/html": [
       "<style  type=\"text/css\" >\n",
       "</style><table id=\"T_e8b7b22e_cf2e_11e9_acba_0c9d923da13e\" ><thead>    <tr>        <th class=\"col_heading level0 col0\" >stats</th>        <th class=\"col_heading level0 col1\" >a1</th>        <th class=\"col_heading level0 col2\" >a2</th>        <th class=\"col_heading level0 col3\" >a3</th>        <th class=\"col_heading level0 col4\" >a4</th>    </tr></thead><tbody>\n",
       "                <tr>\n",
       "                                <td id=\"T_e8b7b22e_cf2e_11e9_acba_0c9d923da13erow0_col0\" class=\"data row0 col0\" >min</td>\n",
       "                        <td id=\"T_e8b7b22e_cf2e_11e9_acba_0c9d923da13erow0_col1\" class=\"data row0 col1\" >60</td>\n",
       "                        <td id=\"T_e8b7b22e_cf2e_11e9_acba_0c9d923da13erow0_col2\" class=\"data row0 col2\" >70</td>\n",
       "                        <td id=\"T_e8b7b22e_cf2e_11e9_acba_0c9d923da13erow0_col3\" class=\"data row0 col3\" >80</td>\n",
       "                        <td id=\"T_e8b7b22e_cf2e_11e9_acba_0c9d923da13erow0_col4\" class=\"data row0 col4\" >90</td>\n",
       "            </tr>\n",
       "            <tr>\n",
       "                                <td id=\"T_e8b7b22e_cf2e_11e9_acba_0c9d923da13erow1_col0\" class=\"data row1 col0\" >max</td>\n",
       "                        <td id=\"T_e8b7b22e_cf2e_11e9_acba_0c9d923da13erow1_col1\" class=\"data row1 col1\" >70</td>\n",
       "                        <td id=\"T_e8b7b22e_cf2e_11e9_acba_0c9d923da13erow1_col2\" class=\"data row1 col2\" >80</td>\n",
       "                        <td id=\"T_e8b7b22e_cf2e_11e9_acba_0c9d923da13erow1_col3\" class=\"data row1 col3\" >90</td>\n",
       "                        <td id=\"T_e8b7b22e_cf2e_11e9_acba_0c9d923da13erow1_col4\" class=\"data row1 col4\" >100</td>\n",
       "            </tr>\n",
       "            <tr>\n",
       "                                <td id=\"T_e8b7b22e_cf2e_11e9_acba_0c9d923da13erow2_col0\" class=\"data row2 col0\" >Mean</td>\n",
       "                        <td id=\"T_e8b7b22e_cf2e_11e9_acba_0c9d923da13erow2_col1\" class=\"data row2 col1\" >64.51</td>\n",
       "                        <td id=\"T_e8b7b22e_cf2e_11e9_acba_0c9d923da13erow2_col2\" class=\"data row2 col2\" >74.9</td>\n",
       "                        <td id=\"T_e8b7b22e_cf2e_11e9_acba_0c9d923da13erow2_col3\" class=\"data row2 col3\" >85.07</td>\n",
       "                        <td id=\"T_e8b7b22e_cf2e_11e9_acba_0c9d923da13erow2_col4\" class=\"data row2 col4\" >95</td>\n",
       "            </tr>\n",
       "            <tr>\n",
       "                                <td id=\"T_e8b7b22e_cf2e_11e9_acba_0c9d923da13erow3_col0\" class=\"data row3 col0\" >Standart Deviasi</td>\n",
       "                        <td id=\"T_e8b7b22e_cf2e_11e9_acba_0c9d923da13erow3_col1\" class=\"data row3 col1\" >3.08</td>\n",
       "                        <td id=\"T_e8b7b22e_cf2e_11e9_acba_0c9d923da13erow3_col2\" class=\"data row3 col2\" >3.27</td>\n",
       "                        <td id=\"T_e8b7b22e_cf2e_11e9_acba_0c9d923da13erow3_col3\" class=\"data row3 col3\" >3.01</td>\n",
       "                        <td id=\"T_e8b7b22e_cf2e_11e9_acba_0c9d923da13erow3_col4\" class=\"data row3 col4\" >3.08</td>\n",
       "            </tr>\n",
       "            <tr>\n",
       "                                <td id=\"T_e8b7b22e_cf2e_11e9_acba_0c9d923da13erow4_col0\" class=\"data row4 col0\" >Variasi</td>\n",
       "                        <td id=\"T_e8b7b22e_cf2e_11e9_acba_0c9d923da13erow4_col1\" class=\"data row4 col1\" >9.46</td>\n",
       "                        <td id=\"T_e8b7b22e_cf2e_11e9_acba_0c9d923da13erow4_col2\" class=\"data row4 col2\" >10.7</td>\n",
       "                        <td id=\"T_e8b7b22e_cf2e_11e9_acba_0c9d923da13erow4_col3\" class=\"data row4 col3\" >9.04</td>\n",
       "                        <td id=\"T_e8b7b22e_cf2e_11e9_acba_0c9d923da13erow4_col4\" class=\"data row4 col4\" >9.52</td>\n",
       "            </tr>\n",
       "            <tr>\n",
       "                                <td id=\"T_e8b7b22e_cf2e_11e9_acba_0c9d923da13erow5_col0\" class=\"data row5 col0\" >Skewnes</td>\n",
       "                        <td id=\"T_e8b7b22e_cf2e_11e9_acba_0c9d923da13erow5_col1\" class=\"data row5 col1\" >0.11</td>\n",
       "                        <td id=\"T_e8b7b22e_cf2e_11e9_acba_0c9d923da13erow5_col2\" class=\"data row5 col2\" >0.03</td>\n",
       "                        <td id=\"T_e8b7b22e_cf2e_11e9_acba_0c9d923da13erow5_col3\" class=\"data row5 col3\" >0.11</td>\n",
       "                        <td id=\"T_e8b7b22e_cf2e_11e9_acba_0c9d923da13erow5_col4\" class=\"data row5 col4\" >-0.07</td>\n",
       "            </tr>\n",
       "            <tr>\n",
       "                                <td id=\"T_e8b7b22e_cf2e_11e9_acba_0c9d923da13erow6_col0\" class=\"data row6 col0\" >Quartile 1</td>\n",
       "                        <td id=\"T_e8b7b22e_cf2e_11e9_acba_0c9d923da13erow6_col1\" class=\"data row6 col1\" >62</td>\n",
       "                        <td id=\"T_e8b7b22e_cf2e_11e9_acba_0c9d923da13erow6_col2\" class=\"data row6 col2\" >72</td>\n",
       "                        <td id=\"T_e8b7b22e_cf2e_11e9_acba_0c9d923da13erow6_col3\" class=\"data row6 col3\" >82.75</td>\n",
       "                        <td id=\"T_e8b7b22e_cf2e_11e9_acba_0c9d923da13erow6_col4\" class=\"data row6 col4\" >92.75</td>\n",
       "            </tr>\n",
       "            <tr>\n",
       "                                <td id=\"T_e8b7b22e_cf2e_11e9_acba_0c9d923da13erow7_col0\" class=\"data row7 col0\" >Quartile 2</td>\n",
       "                        <td id=\"T_e8b7b22e_cf2e_11e9_acba_0c9d923da13erow7_col1\" class=\"data row7 col1\" >65</td>\n",
       "                        <td id=\"T_e8b7b22e_cf2e_11e9_acba_0c9d923da13erow7_col2\" class=\"data row7 col2\" >75</td>\n",
       "                        <td id=\"T_e8b7b22e_cf2e_11e9_acba_0c9d923da13erow7_col3\" class=\"data row7 col3\" >85</td>\n",
       "                        <td id=\"T_e8b7b22e_cf2e_11e9_acba_0c9d923da13erow7_col4\" class=\"data row7 col4\" >95</td>\n",
       "            </tr>\n",
       "            <tr>\n",
       "                                <td id=\"T_e8b7b22e_cf2e_11e9_acba_0c9d923da13erow8_col0\" class=\"data row8 col0\" >Quartile 3</td>\n",
       "                        <td id=\"T_e8b7b22e_cf2e_11e9_acba_0c9d923da13erow8_col1\" class=\"data row8 col1\" >67</td>\n",
       "                        <td id=\"T_e8b7b22e_cf2e_11e9_acba_0c9d923da13erow8_col2\" class=\"data row8 col2\" >78</td>\n",
       "                        <td id=\"T_e8b7b22e_cf2e_11e9_acba_0c9d923da13erow8_col3\" class=\"data row8 col3\" >88</td>\n",
       "                        <td id=\"T_e8b7b22e_cf2e_11e9_acba_0c9d923da13erow8_col4\" class=\"data row8 col4\" >97.25</td>\n",
       "            </tr>\n",
       "            <tr>\n",
       "                                <td id=\"T_e8b7b22e_cf2e_11e9_acba_0c9d923da13erow9_col0\" class=\"data row9 col0\" >Median</td>\n",
       "                        <td id=\"T_e8b7b22e_cf2e_11e9_acba_0c9d923da13erow9_col1\" class=\"data row9 col1\" >64.51</td>\n",
       "                        <td id=\"T_e8b7b22e_cf2e_11e9_acba_0c9d923da13erow9_col2\" class=\"data row9 col2\" >74.9</td>\n",
       "                        <td id=\"T_e8b7b22e_cf2e_11e9_acba_0c9d923da13erow9_col3\" class=\"data row9 col3\" >85.07</td>\n",
       "                        <td id=\"T_e8b7b22e_cf2e_11e9_acba_0c9d923da13erow9_col4\" class=\"data row9 col4\" >95</td>\n",
       "            </tr>\n",
       "            <tr>\n",
       "                                <td id=\"T_e8b7b22e_cf2e_11e9_acba_0c9d923da13erow10_col0\" class=\"data row10 col0\" >Modus</td>\n",
       "                        <td id=\"T_e8b7b22e_cf2e_11e9_acba_0c9d923da13erow10_col1\" class=\"data row10 col1\" >66</td>\n",
       "                        <td id=\"T_e8b7b22e_cf2e_11e9_acba_0c9d923da13erow10_col2\" class=\"data row10 col2\" >71</td>\n",
       "                        <td id=\"T_e8b7b22e_cf2e_11e9_acba_0c9d923da13erow10_col3\" class=\"data row10 col3\" >85</td>\n",
       "                        <td id=\"T_e8b7b22e_cf2e_11e9_acba_0c9d923da13erow10_col4\" class=\"data row10 col4\" >97</td>\n",
       "            </tr>\n",
       "    </tbody></table>"
      ],
      "text/plain": [
       "<pandas.io.formats.style.Styler at 0x1b2f6b519e8>"
      ]
     },
     "execution_count": 10,
     "metadata": {},
     "output_type": "execute_result"
    }
   ],
   "source": [
    "import pandas as pd\n",
    "from scipy import stats\n",
    "df = pd.read_csv('data.csv',sep=\";\")\n",
    "data = {\"stats\":['min','max','Mean','Standart Deviasi', 'Variasi','Skewnes',\n",
    "                 'Quartile 1','Quartile 2', 'Quartile 3', 'Median','Modus']}\n",
    "for i in df.columns:\n",
    "    data[i] = [df[i].min(),df[i].max(),df[i].mean(),round(df[i].std(),2), round(df[i].var(),2), round(df[i].skew(),2), \n",
    "               df[i].quantile(0.25),df[i].quantile(0.5),df[i].quantile(0.75), df[i].mean(), stats.mode(df[i]).mode[0]]\n",
    "kd= pd.DataFrame(data)\n",
    "kd.style.hide_index()\n"
   ]
  },
  {
   "cell_type": "code",
   "execution_count": null,
   "metadata": {},
   "outputs": [],
   "source": []
  }
 ],
 "metadata": {
  "kernelspec": {
   "display_name": "Python 3",
   "language": "python",
   "name": "python3"
  },
  "language_info": {
   "codemirror_mode": {
    "name": "ipython",
    "version": 3
   },
   "file_extension": ".py",
   "mimetype": "text/x-python",
   "name": "python",
   "nbconvert_exporter": "python",
   "pygments_lexer": "ipython3",
   "version": "3.7.3"
  }
 },
 "nbformat": 4,
 "nbformat_minor": 2
}
